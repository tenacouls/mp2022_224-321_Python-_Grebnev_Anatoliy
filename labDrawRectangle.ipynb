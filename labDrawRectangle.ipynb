{
 "cells": [
  {
   "cell_type": "code",
   "execution_count": 78,
   "metadata": {},
   "outputs": [
    {
     "name": "stdout",
     "output_type": "stream",
     "text": [
      "IIIII\n",
      "IIIII\n",
      "IIIII\n",
      "IIIII\n",
      "IIIII\n"
     ]
    }
   ],
   "source": [
    "def drawRectangle():\n",
    "\n",
    "    b = int(input(\"Высота фигуры: \"))\n",
    "\n",
    "    a = int(input(\"Ширина фигуры:\"))\n",
    "\n",
    "    simbol = input(\"Символ фигуры: \")\n",
    "    print(simbol * a)\n",
    "\n",
    "    for i in range(b - 2):\n",
    "        print(simbol * a)\n",
    "    print(simbol * a)\n",
    "    answer = input(\"Повторить? Y or N\")\n",
    "    if answer == 'Y':\n",
    "        drawRectangle()\n",
    "    elif answer == 'N':\n",
    "        return\n",
    "drawRectangle()\n"
   ]
  }
 ],
 "metadata": {
  "kernelspec": {
   "display_name": "Python 3",
   "language": "python",
   "name": "python3"
  },
  "language_info": {
   "codemirror_mode": {
    "name": "ipython",
    "version": 3
   },
   "file_extension": ".py",
   "mimetype": "text/x-python",
   "name": "python",
   "nbconvert_exporter": "python",
   "pygments_lexer": "ipython3",
   "version": "3.10.6 (main, Nov 14 2022, 16:10:14) [GCC 11.3.0]"
  },
  "orig_nbformat": 4,
  "vscode": {
   "interpreter": {
    "hash": "916dbcbb3f70747c44a77c7bcd40155683ae19c65e1c03b4aa3499c5328201f1"
   }
  }
 },
 "nbformat": 4,
 "nbformat_minor": 2
}
